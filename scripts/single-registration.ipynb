{
 "cells": [
  {
   "cell_type": "markdown",
   "metadata": {},
   "source": [
    "# Registering a Single Slice to a Stack of Images"
   ]
  },
  {
   "cell_type": "markdown",
   "metadata": {},
   "source": [
    "__Purpose:__ Registering immunofluorescent whole brain slice images to a universal atlas and then saving the registered images into a stack.  \n",
    "           \n",
    "NOTE: The notebook and package is currently developed for the workflow specific to the Nance Lab."
   ]
  },
  {
   "cell_type": "markdown",
   "metadata": {},
   "source": [
    "__How the notebook works:__\n",
    "1. Accesses your Google Drive to pull files from\n",
    "2. Accesses the specific folder in Google drive with stored brain slice images\n",
    "3. Accesses your distances file for correlation of slices to an atlas\n",
    "4. Accesses the atlas segmentation file\n",
    "5. Loops through the files performing registration\n",
    "   * Downloads a file\n",
    "   * Cleans the files\n",
    "   * Obtains registration points for your image and atlas image\n",
    "   * Obtains registration coefficients for the transformation\n",
    "   * Performs the registration\n",
    "   * Saves the slice to a stack of images\n",
    "   * Deletes the file\n",
    "   * Moves to the next file and repeats steps\n",
    "6. Prints the stack of images for visual inspection"
   ]
  },
  {
   "cell_type": "markdown",
   "metadata": {},
   "source": [
    "__How to use the notebook__:  \n",
    "\n",
    "1. Store you slices in a Google Folder with the naming system 'slide#_slice#'\n",
    "2. Store your distances file in the same folder as 'distances.xlsx'\n",
    "3. Store your atlas in the same file under your desired name\n",
    "2. Input the Google Folder ID of neural slices (final part of the url) into the folder_id in Step 2\n",
    "3. Input the name of the atlas in the atlas_file_name input of step 2\n",
    "4. Run the whole notebook\n",
    "5. When a second tab opens, log into your Google Drive account\n",
    "6. Allow access to Quickstart\n",
    "    * DO NOT CLOSE THE TAB ONCE 'AUTHENTICATION FLOW IS COMPLETED' APPEARS\n",
    "7. Allow the notebook to run"
   ]
  },
  {
   "cell_type": "markdown",
   "metadata": {},
   "source": [
    "*Step 1: Importing Necessary Packages*"
   ]
  },
  {
   "cell_type": "code",
   "execution_count": 1,
   "metadata": {},
   "outputs": [],
   "source": [
    "import os\n",
    "from apiclient import discovery\n",
    "from httplib2 import Http\n",
    "import oauth2client\n",
    "from oauth2client import file, client, tools\n",
    "import pandas as pd\n",
    "import nrrd\n",
    "import nibabel as nib\n",
    "import io\n",
    "from googleapiclient.http import MediaIoBaseDownload\n",
    "\n",
    "import numpy as np\n",
    "from skimage.io import imread\n",
    "import matplotlib.pyplot as plt\n",
    "\n",
    "#Importing files from my packages\n",
    "import ifmodels.register as register\n",
    "import ifmodels.gdaccess as gdaccess\n",
    "import ifmodels.preprocess as preprocess"
   ]
  },
  {
   "cell_type": "markdown",
   "metadata": {},
   "source": [
    "*Step 2: User inputs*"
   ]
  },
  {
   "cell_type": "code",
   "execution_count": 29,
   "metadata": {},
   "outputs": [],
   "source": [
    "folder_id = \"'1GDUl93_NWjLS9qAVIdA1UukD3UqItFvo'\"\n",
    "atlas_file_name = 'atlas_segmentation.nrrd'\n",
    "slice_name = 'slide65_slice2.tif'"
   ]
  },
  {
   "cell_type": "markdown",
   "metadata": {},
   "source": [
    "*Step 3: Getting Google Drive Access*"
   ]
  },
  {
   "cell_type": "code",
   "execution_count": 3,
   "metadata": {},
   "outputs": [
    {
     "name": "stdout",
     "output_type": "stream",
     "text": [
      "Your browser has been opened to visit:\n",
      "\n",
      "    https://accounts.google.com/o/oauth2/auth?client_id=311511771285-g66b7tm0525pnntbr67mv9t6qjud4bgk.apps.googleusercontent.com&redirect_uri=http%3A%2F%2Flocalhost%3A8080%2F&scope=https%3A%2F%2Fwww.googleapis.com%2Fauth%2Fdrive&access_type=offline&response_type=code\n",
      "\n",
      "Authentication successful.\n"
     ]
    }
   ],
   "source": [
    "import pydrive\n",
    "from pydrive.auth import GoogleAuth as gauth\n",
    "from pydrive.drive import GoogleDrive\n",
    "\n",
    "from pydrive.auth import GoogleAuth\n",
    "\n",
    "#  Creates local webserver and auto handles authentication.\n",
    "gauth = GoogleAuth()\n",
    "gauth.LocalWebserverAuth()\n",
    "\n",
    "#  Create GoogleDrive instance with authenticated GoogleAuth instance\n",
    "drive = GoogleDrive(gauth)"
   ]
  },
  {
   "cell_type": "markdown",
   "metadata": {},
   "source": [
    "*Step 4: Get list of file names and file ids from specified google folder*"
   ]
  },
  {
   "cell_type": "code",
   "execution_count": 32,
   "metadata": {},
   "outputs": [],
   "source": [
    "string = folder_id + ' in parents and trashed=false'"
   ]
  },
  {
   "cell_type": "code",
   "execution_count": 33,
   "metadata": {},
   "outputs": [],
   "source": [
    "file_list = drive.ListFile({'q': string}).GetList()\n",
    "names = []\n",
    "ids = []\n",
    "for file1 in file_list:\n",
    "    names.append(file1['title'])\n",
    "    ids.append(file1['id'])"
   ]
  },
  {
   "cell_type": "code",
   "execution_count": 34,
   "metadata": {},
   "outputs": [
    {
     "data": {
      "text/html": [
       "<div>\n",
       "<style scoped>\n",
       "    .dataframe tbody tr th:only-of-type {\n",
       "        vertical-align: middle;\n",
       "    }\n",
       "\n",
       "    .dataframe tbody tr th {\n",
       "        vertical-align: top;\n",
       "    }\n",
       "\n",
       "    .dataframe thead th {\n",
       "        text-align: right;\n",
       "    }\n",
       "</style>\n",
       "<table border=\"1\" class=\"dataframe\">\n",
       "  <thead>\n",
       "    <tr style=\"text-align: right;\">\n",
       "      <th></th>\n",
       "      <th>names</th>\n",
       "      <th>ids</th>\n",
       "    </tr>\n",
       "  </thead>\n",
       "  <tbody>\n",
       "    <tr>\n",
       "      <th>0</th>\n",
       "      <td>atlas_segmentation.nrrd</td>\n",
       "      <td>1Pj_D6bo-zdiJ9JoTq8-ViusRUCbz3h64</td>\n",
       "    </tr>\n",
       "    <tr>\n",
       "      <th>1</th>\n",
       "      <td>distances.xlsx</td>\n",
       "      <td>1gJXjESKZ5AVxKHp4Lf-3WVJHmGQ72ihr</td>\n",
       "    </tr>\n",
       "    <tr>\n",
       "      <th>2</th>\n",
       "      <td>slide66_slice3.tif</td>\n",
       "      <td>1A2Z0H0NsceFH7YrweRwWh84g07KgCeuR</td>\n",
       "    </tr>\n",
       "    <tr>\n",
       "      <th>3</th>\n",
       "      <td>slide67_slice2.tif</td>\n",
       "      <td>1pk4aB4JDTyYAC2924WZdSJT3wZ_dpe1b</td>\n",
       "    </tr>\n",
       "    <tr>\n",
       "      <th>4</th>\n",
       "      <td>slide66_slice2.tif</td>\n",
       "      <td>1QUC74m7A2kgVP2FPOVIXKGQY_C0BljZ9</td>\n",
       "    </tr>\n",
       "    <tr>\n",
       "      <th>5</th>\n",
       "      <td>slide66_slice1.tif</td>\n",
       "      <td>1kpQ-DRPLV4iC3HY8BGxklXCtp3BgTlkX</td>\n",
       "    </tr>\n",
       "    <tr>\n",
       "      <th>6</th>\n",
       "      <td>slide65_slice3.tif</td>\n",
       "      <td>1uESvcrpkbztEwQbMR0Y0xp25VpfOU5cf</td>\n",
       "    </tr>\n",
       "    <tr>\n",
       "      <th>7</th>\n",
       "      <td>slide65_slice2.tif</td>\n",
       "      <td>1cDBPRtVgq_Lf_gFF4dWKNdJbJCmXSaD7</td>\n",
       "    </tr>\n",
       "    <tr>\n",
       "      <th>8</th>\n",
       "      <td>slide65_slice1.tif</td>\n",
       "      <td>1oKN8sGQ4Yl7yKoCigyDR8qWlgIbs4ae_</td>\n",
       "    </tr>\n",
       "    <tr>\n",
       "      <th>9</th>\n",
       "      <td>slide64_slide3.tif</td>\n",
       "      <td>1TespqYjQSAqMF9uUVpR02MJi3qnCJlqq</td>\n",
       "    </tr>\n",
       "    <tr>\n",
       "      <th>10</th>\n",
       "      <td>slide64_slice2.tif</td>\n",
       "      <td>1uzuq3x0NyiUGhKJCbTp-gR9SgAPoRYnn</td>\n",
       "    </tr>\n",
       "  </tbody>\n",
       "</table>\n",
       "</div>"
      ],
      "text/plain": [
       "                      names                                ids\n",
       "0   atlas_segmentation.nrrd  1Pj_D6bo-zdiJ9JoTq8-ViusRUCbz3h64\n",
       "1            distances.xlsx  1gJXjESKZ5AVxKHp4Lf-3WVJHmGQ72ihr\n",
       "2        slide66_slice3.tif  1A2Z0H0NsceFH7YrweRwWh84g07KgCeuR\n",
       "3        slide67_slice2.tif  1pk4aB4JDTyYAC2924WZdSJT3wZ_dpe1b\n",
       "4        slide66_slice2.tif  1QUC74m7A2kgVP2FPOVIXKGQY_C0BljZ9\n",
       "5        slide66_slice1.tif  1kpQ-DRPLV4iC3HY8BGxklXCtp3BgTlkX\n",
       "6        slide65_slice3.tif  1uESvcrpkbztEwQbMR0Y0xp25VpfOU5cf\n",
       "7        slide65_slice2.tif  1cDBPRtVgq_Lf_gFF4dWKNdJbJCmXSaD7\n",
       "8        slide65_slice1.tif  1oKN8sGQ4Yl7yKoCigyDR8qWlgIbs4ae_\n",
       "9        slide64_slide3.tif  1TespqYjQSAqMF9uUVpR02MJi3qnCJlqq\n",
       "10       slide64_slice2.tif  1uzuq3x0NyiUGhKJCbTp-gR9SgAPoRYnn"
      ]
     },
     "execution_count": 34,
     "metadata": {},
     "output_type": "execute_result"
    }
   ],
   "source": [
    "file_names = pd.DataFrame(list(zip(names, ids)), columns = ['names','ids'])\n",
    "file_names"
   ]
  },
  {
   "cell_type": "markdown",
   "metadata": {},
   "source": [
    "*Step 5: Accessing the distances file and reading into a dataframe*"
   ]
  },
  {
   "cell_type": "code",
   "execution_count": 35,
   "metadata": {},
   "outputs": [],
   "source": [
    "distances_file = file_names.loc[file_names['names'] == 'distances.xlsx']\n",
    "distances_file = distances_file.reset_index()\n",
    "\n",
    "gdistances = drive.CreateFile({'id': distances_file['ids'][0]})\n",
    "gdistances.GetContentFile(distances_file['names'][0])\n",
    "\n",
    "corr_atlas = pd.read_excel(distances_file['names'][0])\n",
    "\n",
    "file_names = file_names[file_names.names!= 'distances.xlsx']"
   ]
  },
  {
   "cell_type": "markdown",
   "metadata": {},
   "source": [
    "*Step 6: Accessing the universal atlas*"
   ]
  },
  {
   "cell_type": "code",
   "execution_count": 36,
   "metadata": {},
   "outputs": [],
   "source": [
    "atlas_file = file_names.loc[file_names['names'] == atlas_file_name]\n",
    "atlas_file = atlas_file.reset_index()\n",
    "\n",
    "gatlas= drive.CreateFile({'id': atlas_file['ids'][0]})\n",
    "gatlas.GetContentFile(atlas_file['names'][0])\n",
    "\n",
    "F_im_nii = register.nrrd_to_nii(atlas_file_name)\n",
    "\n",
    "file_names = file_names[file_names.names!= atlas_file_name]"
   ]
  },
  {
   "cell_type": "markdown",
   "metadata": {},
   "source": [
    "*Step 7: Initializing a value and array for registration use in Step 8*"
   ]
  },
  {
   "cell_type": "code",
   "execution_count": 37,
   "metadata": {},
   "outputs": [],
   "source": [
    "Registered_stack = np.zeros((9, 4280, 3200))"
   ]
  },
  {
   "cell_type": "markdown",
   "metadata": {},
   "source": [
    "*Step 8: Full code for pulling and registering files from google drive*"
   ]
  },
  {
   "cell_type": "code",
   "execution_count": 38,
   "metadata": {},
   "outputs": [],
   "source": [
    "file_id = file_names.loc[file_names['names'] == slice_name]\n",
    "file_id = file_id.reset_index()"
   ]
  },
  {
   "cell_type": "markdown",
   "metadata": {},
   "source": [
    "*Step 9: Downloading the slice to be registered (moving image)*"
   ]
  },
  {
   "cell_type": "code",
   "execution_count": 39,
   "metadata": {},
   "outputs": [],
   "source": [
    "file6 = drive.CreateFile({'id': file_id['ids'][0]})\n",
    "file6.GetContentFile(file_id['names'][0])"
   ]
  },
  {
   "cell_type": "markdown",
   "metadata": {},
   "source": [
    "*Step 10: Cleaning up the moving image and getting registration points*"
   ]
  },
  {
   "cell_type": "code",
   "execution_count": 50,
   "metadata": {},
   "outputs": [],
   "source": [
    "im = register.im_read(file_id['names'][0])\n",
    "binary1 = register.mim_edge_detector(im)\n",
    "binary2 = register.image_cleaning(binary1)\n",
    "coor_df = register.find_points(binary2)"
   ]
  },
  {
   "cell_type": "markdown",
   "metadata": {},
   "source": [
    "__Visualization 1: Original Slice__"
   ]
  },
  {
   "cell_type": "code",
   "execution_count": 46,
   "metadata": {},
   "outputs": [
    {
     "data": {
      "image/png": "[encoded data removed]",
      "text/plain": [
       "<Figure size 432x288 with 1 Axes>"
      ]
     },
     "metadata": {},
     "output_type": "display_data"
    }
   ],
   "source": [
    "plt.imshow(im, cmap = 'gray')\n",
    "plt.title('Layer of Registered Stack')\n",
    "plt.xticks([])\n",
    "plt.yticks([])\n",
    "\n",
    "plt.show()"
   ]
  },
  {
   "cell_type": "markdown",
   "metadata": {},
   "source": [
    "__Visualization 2: Binary Slice__"
   ]
  },
  {
   "cell_type": "code",
   "execution_count": 47,
   "metadata": {},
   "outputs": [
    {
     "data": {
      "image/png": "[encoded data removed]",
      "text/plain": [
       "<Figure size 432x288 with 1 Axes>"
      ]
     },
     "metadata": {},
     "output_type": "display_data"
    }
   ],
   "source": [
    "plt.imshow(binary1, cmap = 'gray')\n",
    "plt.title('Layer of Registered Stack')\n",
    "plt.xticks([])\n",
    "plt.yticks([])\n",
    "\n",
    "plt.show()"
   ]
  },
  {
   "cell_type": "markdown",
   "metadata": {},
   "source": [
    "__Visualization 3: small Objects Removed__"
   ]
  },
  {
   "cell_type": "code",
   "execution_count": 51,
   "metadata": {},
   "outputs": [
    {
     "data": {
      "image/png": "[encoded data removed]",
      "text/plain": [
       "<Figure size 432x288 with 1 Axes>"
      ]
     },
     "metadata": {},
     "output_type": "display_data"
    }
   ],
   "source": [
    "plt.imshow(binary2, cmap = 'gray')\n",
    "plt.title('Layer of Registered Stack')\n",
    "plt.xticks([])\n",
    "plt.yticks([])\n",
    "\n",
    "plt.show()"
   ]
  },
  {
   "cell_type": "markdown",
   "metadata": {},
   "source": [
    "__Visualization 4: Registration Coordinates__"
   ]
  },
  {
   "cell_type": "code",
   "execution_count": 49,
   "metadata": {},
   "outputs": [
    {
     "data": {
      "image/png": "[encoded data removed]",
      "text/plain": [
       "<Figure size 432x288 with 1 Axes>"
      ]
     },
     "metadata": {},
     "output_type": "display_data"
    }
   ],
   "source": [
    "plt.imshow(binary, cmap = 'gray')\n",
    "plt.title('Layer of Registered Stack')\n",
    "plt.xticks([])\n",
    "plt.yticks([])\n",
    "\n",
    "plt.show()"
   ]
  },
  {
   "cell_type": "markdown",
   "metadata": {},
   "source": [
    "*Step 11: Getting the proper atlas slice and its registration points*"
   ]
  },
  {
   "cell_type": "code",
   "execution_count": null,
   "metadata": {},
   "outputs": [],
   "source": [
    "slice = corr_atlas.loc[corr_atlas['Slidetag'] == new_file_name[:-4]].values.tolist()[0]\n",
    "slice_number = slice[1]\n",
    "sagittal, coronal, horizontal = register.atlas_slice(F_im_nii, slice_number)\n",
    "resized = preprocess.resize(coronal, 20)\n",
    "resized = register.mim_edge_detector(resized)\n",
    "fim_coor_df = register.find_points(resized)"
   ]
  },
  {
   "cell_type": "markdown",
   "metadata": {},
   "source": [
    "*Step 12: Performing the affine transformation to get registration coordinates*"
   ]
  },
  {
   "cell_type": "code",
   "execution_count": null,
   "metadata": {},
   "outputs": [],
   "source": [
    "df = pd.concat([coor_df, fim_coor_df], axis = 1)\n",
    "ainv = register.reg_coefficients(df, 1, 3, 5)"
   ]
  },
  {
   "cell_type": "markdown",
   "metadata": {},
   "source": [
    "*Step 13: Registering the Slice*"
   ]
  },
  {
   "cell_type": "code",
   "execution_count": null,
   "metadata": {},
   "outputs": [
    {
     "name": "stdout",
     "output_type": "stream",
     "text": [
      "1 slide66_slice3.tif\n",
      "2 slide67_slice2.tif\n"
     ]
    }
   ],
   "source": [
    "registered_im = register.registration(im, ainv)\n",
    "Registered_stack[k] = registered_im"
   ]
  },
  {
   "cell_type": "markdown",
   "metadata": {},
   "source": [
    "*Step 14: Removing the file from my personal computer*"
   ]
  },
  {
   "cell_type": "code",
   "execution_count": null,
   "metadata": {},
   "outputs": [],
   "source": [
    "os.remove(new_file_name)"
   ]
  },
  {
   "cell_type": "markdown",
   "metadata": {},
   "source": [
    "*Step 9: Saving the created stack as a Nifti File*"
   ]
  },
  {
   "cell_type": "code",
   "execution_count": null,
   "metadata": {},
   "outputs": [],
   "source": [
    "full_brain = nib.Nifti2Image(Registered_stack, affine=np.eye(4))"
   ]
  },
  {
   "cell_type": "markdown",
   "metadata": {},
   "source": [
    "*Visualization 1: Looking at an individual slice*"
   ]
  },
  {
   "cell_type": "code",
   "execution_count": null,
   "metadata": {},
   "outputs": [],
   "source": [
    "plt.imshow(Registered_stack[4], cmap = 'gray')\n",
    "plt.title('Layer of Registered Stack')\n",
    "plt.xticks([])\n",
    "plt.yticks([])\n",
    "\n",
    "plt.show()"
   ]
  },
  {
   "cell_type": "markdown",
   "metadata": {},
   "source": [
    "*Visualization 2: Looking at the full stack of slices side by side*"
   ]
  },
  {
   "cell_type": "code",
   "execution_count": null,
   "metadata": {},
   "outputs": [],
   "source": []
  },
  {
   "cell_type": "code",
   "execution_count": null,
   "metadata": {},
   "outputs": [],
   "source": []
  },
  {
   "cell_type": "code",
   "execution_count": null,
   "metadata": {},
   "outputs": [],
   "source": []
  }
 ],
 "metadata": {
  "kernelspec": {
   "display_name": "Python 3",
   "language": "python",
   "name": "python3"
  },
  "language_info": {
   "codemirror_mode": {
    "name": "ipython",
    "version": 3
   },
   "file_extension": ".py",
   "mimetype": "text/x-python",
   "name": "python",
   "nbconvert_exporter": "python",
   "pygments_lexer": "ipython3",
   "version": "3.6.8"
  }
 },
 "nbformat": 4,
 "nbformat_minor": 4
}
