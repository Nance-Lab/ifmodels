{
 "cells": [
  {
   "cell_type": "markdown",
   "metadata": {},
   "source": [
    "# Registering Multiple Slices to a Stack of Images"
   ]
  },
  {
   "cell_type": "markdown",
   "metadata": {},
   "source": [
    "__Purpose:__ Registering immunofluorescent whole brain slice images to a universal atlas and then saving the registered images into a stack.  \n",
    "           \n",
    "NOTE: The notebook and package is currently developed for the workflow specific to the Nance Lab."
   ]
  },
  {
   "cell_type": "markdown",
   "metadata": {},
   "source": [
    "__How the notebook works:__\n",
    "1. Accesses your Google Drive to pull files from\n",
    "2. Accesses the specific folder in Google drive with stored brain slice images\n",
    "3. Accesses your distances file for correlation of slices to an atlas\n",
    "4. Accesses the atlas segmentation file\n",
    "5. Loops through the files performing registration\n",
    "   * Downloads a file\n",
    "   * Cleans the files\n",
    "   * Obtains registration points for your image and atlas image\n",
    "   * Obtains registration coefficients for the transformation\n",
    "   * Performs the registration\n",
    "   * Saves the slice to a stack of images\n",
    "   * Deletes the file\n",
    "   * Moves to the next file and repeats steps\n",
    "6. Prints the stack of images for visual inspection"
   ]
  },
  {
   "cell_type": "markdown",
   "metadata": {},
   "source": [
    "__How to use the notebook__:  \n",
    "\n",
    "1. Store you slices in a Google Folder with the naming system 'slide#_slice#'\n",
    "2. Store your distances file in the same folder as 'distances.xlsx'\n",
    "3. Store your atlas in the same file under your desired name\n",
    "2. Input the Google Folder ID of neural slices (final part of the url) into the folder_id in Step 2\n",
    "3. Input the name of the atlas in the atlas_file_name input of step 2\n",
    "4. Run the whole notebook\n",
    "5. When a second tab opens, log into your Google Drive account\n",
    "6. Allow access to Quickstart\n",
    "    * DO NOT CLOSE THE TAB ONCE 'AUTHENTICATION FLOW IS COMPLETED' APPEARS\n",
    "7. Allow the notebook to run"
   ]
  },
  {
   "cell_type": "markdown",
   "metadata": {},
   "source": [
    "*Step 1: Importing Necessary Packages*"
   ]
  },
  {
   "cell_type": "code",
   "execution_count": 1,
   "metadata": {},
   "outputs": [],
   "source": [
    "import os\n",
    "from apiclient import discovery\n",
    "from httplib2 import Http\n",
    "import oauth2client\n",
    "from oauth2client import file, client, tools\n",
    "import pandas as pd\n",
    "import nrrd\n",
    "import nibabel as nib\n",
    "import io\n",
    "from googleapiclient.http import MediaIoBaseDownload\n",
    "\n",
    "import numpy as np\n",
    "from skimage.io import imread\n",
    "import matplotlib.pyplot as plt\n",
    "\n",
    "#Importing files from my packages\n",
    "import ifmodels.register as register\n",
    "import ifmodels.gdaccess as gdaccess\n",
    "import ifmodels.preprocess as preprocess"
   ]
  },
  {
   "cell_type": "markdown",
   "metadata": {},
   "source": [
    "*Step 2: User inputs*"
   ]
  },
  {
   "cell_type": "code",
   "execution_count": 2,
   "metadata": {},
   "outputs": [],
   "source": [
    "folder_id = \"'1GDUl93_NWjLS9qAVIdA1UukD3UqItFvo'\"\n",
    "atlas_file_name = 'atlas_segmentation.nrrd'"
   ]
  },
  {
   "cell_type": "markdown",
   "metadata": {},
   "source": [
    "*Step 3: Getting Google Drive Access*"
   ]
  },
  {
   "cell_type": "code",
   "execution_count": 3,
   "metadata": {},
   "outputs": [
    {
     "name": "stdout",
     "output_type": "stream",
     "text": [
      "Your browser has been opened to visit:\n",
      "\n",
      "    https://accounts.google.com/o/oauth2/auth?client_id=311511771285-g66b7tm0525pnntbr67mv9t6qjud4bgk.apps.googleusercontent.com&redirect_uri=http%3A%2F%2Flocalhost%3A8080%2F&scope=https%3A%2F%2Fwww.googleapis.com%2Fauth%2Fdrive&access_type=offline&response_type=code\n",
      "\n",
      "Authentication successful.\n"
     ]
    }
   ],
   "source": [
    "import pydrive\n",
    "from pydrive.auth import GoogleAuth as gauth\n",
    "from pydrive.drive import GoogleDrive\n",
    "\n",
    "from pydrive.auth import GoogleAuth\n",
    "\n",
    "#  Creates local webserver and auto handles authentication.\n",
    "gauth = GoogleAuth()\n",
    "gauth.LocalWebserverAuth()\n",
    "\n",
    "#  Create GoogleDrive instance with authenticated GoogleAuth instance\n",
    "drive = GoogleDrive(gauth)"
   ]
  },
  {
   "cell_type": "markdown",
   "metadata": {},
   "source": [
    "*Step 4: Get list of file names and file ids from specified google folder*"
   ]
  },
  {
   "cell_type": "code",
   "execution_count": 4,
   "metadata": {},
   "outputs": [],
   "source": [
    "string = folder_id + ' in parents and trashed=false'"
   ]
  },
  {
   "cell_type": "code",
   "execution_count": 5,
   "metadata": {},
   "outputs": [],
   "source": [
    "file_list = drive.ListFile({'q': string}).GetList()\n",
    "names = []\n",
    "ids = []\n",
    "for file1 in file_list:\n",
    "    names.append(file1['title'])\n",
    "    ids.append(file1['id'])"
   ]
  },
  {
   "cell_type": "code",
   "execution_count": 6,
   "metadata": {},
   "outputs": [
    {
     "data": {
      "text/html": [
       "<div>\n",
       "<style scoped>\n",
       "    .dataframe tbody tr th:only-of-type {\n",
       "        vertical-align: middle;\n",
       "    }\n",
       "\n",
       "    .dataframe tbody tr th {\n",
       "        vertical-align: top;\n",
       "    }\n",
       "\n",
       "    .dataframe thead th {\n",
       "        text-align: right;\n",
       "    }\n",
       "</style>\n",
       "<table border=\"1\" class=\"dataframe\">\n",
       "  <thead>\n",
       "    <tr style=\"text-align: right;\">\n",
       "      <th></th>\n",
       "      <th>names</th>\n",
       "      <th>ids</th>\n",
       "    </tr>\n",
       "  </thead>\n",
       "  <tbody>\n",
       "    <tr>\n",
       "      <th>0</th>\n",
       "      <td>atlas_segmentation.nrrd</td>\n",
       "      <td>1Pj_D6bo-zdiJ9JoTq8-ViusRUCbz3h64</td>\n",
       "    </tr>\n",
       "    <tr>\n",
       "      <th>1</th>\n",
       "      <td>distances.xlsx</td>\n",
       "      <td>1gJXjESKZ5AVxKHp4Lf-3WVJHmGQ72ihr</td>\n",
       "    </tr>\n",
       "    <tr>\n",
       "      <th>2</th>\n",
       "      <td>slide66_slice3.tif</td>\n",
       "      <td>1A2Z0H0NsceFH7YrweRwWh84g07KgCeuR</td>\n",
       "    </tr>\n",
       "    <tr>\n",
       "      <th>3</th>\n",
       "      <td>slide67_slice2.tif</td>\n",
       "      <td>1pk4aB4JDTyYAC2924WZdSJT3wZ_dpe1b</td>\n",
       "    </tr>\n",
       "    <tr>\n",
       "      <th>4</th>\n",
       "      <td>slide66_slice2.tif</td>\n",
       "      <td>1QUC74m7A2kgVP2FPOVIXKGQY_C0BljZ9</td>\n",
       "    </tr>\n",
       "    <tr>\n",
       "      <th>5</th>\n",
       "      <td>slide66_slice1.tif</td>\n",
       "      <td>1kpQ-DRPLV4iC3HY8BGxklXCtp3BgTlkX</td>\n",
       "    </tr>\n",
       "    <tr>\n",
       "      <th>6</th>\n",
       "      <td>slide65_slice3.tif</td>\n",
       "      <td>1uESvcrpkbztEwQbMR0Y0xp25VpfOU5cf</td>\n",
       "    </tr>\n",
       "    <tr>\n",
       "      <th>7</th>\n",
       "      <td>slide65_slice2.tif</td>\n",
       "      <td>1cDBPRtVgq_Lf_gFF4dWKNdJbJCmXSaD7</td>\n",
       "    </tr>\n",
       "    <tr>\n",
       "      <th>8</th>\n",
       "      <td>slide65_slice1.tif</td>\n",
       "      <td>1oKN8sGQ4Yl7yKoCigyDR8qWlgIbs4ae_</td>\n",
       "    </tr>\n",
       "    <tr>\n",
       "      <th>9</th>\n",
       "      <td>slide64_slide3.tif</td>\n",
       "      <td>1TespqYjQSAqMF9uUVpR02MJi3qnCJlqq</td>\n",
       "    </tr>\n",
       "    <tr>\n",
       "      <th>10</th>\n",
       "      <td>slide64_slice2.tif</td>\n",
       "      <td>1uzuq3x0NyiUGhKJCbTp-gR9SgAPoRYnn</td>\n",
       "    </tr>\n",
       "  </tbody>\n",
       "</table>\n",
       "</div>"
      ],
      "text/plain": [
       "                      names                                ids\n",
       "0   atlas_segmentation.nrrd  1Pj_D6bo-zdiJ9JoTq8-ViusRUCbz3h64\n",
       "1            distances.xlsx  1gJXjESKZ5AVxKHp4Lf-3WVJHmGQ72ihr\n",
       "2        slide66_slice3.tif  1A2Z0H0NsceFH7YrweRwWh84g07KgCeuR\n",
       "3        slide67_slice2.tif  1pk4aB4JDTyYAC2924WZdSJT3wZ_dpe1b\n",
       "4        slide66_slice2.tif  1QUC74m7A2kgVP2FPOVIXKGQY_C0BljZ9\n",
       "5        slide66_slice1.tif  1kpQ-DRPLV4iC3HY8BGxklXCtp3BgTlkX\n",
       "6        slide65_slice3.tif  1uESvcrpkbztEwQbMR0Y0xp25VpfOU5cf\n",
       "7        slide65_slice2.tif  1cDBPRtVgq_Lf_gFF4dWKNdJbJCmXSaD7\n",
       "8        slide65_slice1.tif  1oKN8sGQ4Yl7yKoCigyDR8qWlgIbs4ae_\n",
       "9        slide64_slide3.tif  1TespqYjQSAqMF9uUVpR02MJi3qnCJlqq\n",
       "10       slide64_slice2.tif  1uzuq3x0NyiUGhKJCbTp-gR9SgAPoRYnn"
      ]
     },
     "execution_count": 6,
     "metadata": {},
     "output_type": "execute_result"
    }
   ],
   "source": [
    "file_names = pd.DataFrame(list(zip(names, ids)), columns = ['names','ids'])\n",
    "file_names"
   ]
  },
  {
   "cell_type": "markdown",
   "metadata": {},
   "source": [
    "*Step 5: Accessing the distances file and reading into a dataframe*"
   ]
  },
  {
   "cell_type": "code",
   "execution_count": 7,
   "metadata": {},
   "outputs": [],
   "source": [
    "distances_file = file_names.loc[file_names['names'] == 'distances.xlsx']\n",
    "distances_file = distances_file.reset_index()\n",
    "\n",
    "gdistances = drive.CreateFile({'id': distances_file['ids'][0]})\n",
    "gdistances.GetContentFile(distances_file['names'][0])\n",
    "\n",
    "corr_atlas = pd.read_excel(distances_file['names'][0])\n",
    "\n",
    "file_names = file_names[file_names.names!= 'distances.xlsx']"
   ]
  },
  {
   "cell_type": "markdown",
   "metadata": {},
   "source": [
    "*Step 6: Accessing the universal atlas*"
   ]
  },
  {
   "cell_type": "code",
   "execution_count": 8,
   "metadata": {},
   "outputs": [],
   "source": [
    "atlas_file = file_names.loc[file_names['names'] == atlas_file_name]\n",
    "atlas_file = atlas_file.reset_index()\n",
    "\n",
    "gatlas= drive.CreateFile({'id': atlas_file['ids'][0]})\n",
    "gatlas.GetContentFile(atlas_file['names'][0])\n",
    "\n",
    "F_im_nii = register.nrrd_to_nii(atlas_file_name)\n",
    "\n",
    "file_names = file_names[file_names.names!= atlas_file_name]"
   ]
  },
  {
   "cell_type": "markdown",
   "metadata": {},
   "source": [
    "*Step 7: Initializing a value and array for registration use in Step 8*"
   ]
  },
  {
   "cell_type": "code",
   "execution_count": 9,
   "metadata": {},
   "outputs": [],
   "source": [
    "k = 0\n",
    "Registered_stack = np.zeros((9, 4280, 3200))"
   ]
  },
  {
   "cell_type": "markdown",
   "metadata": {},
   "source": [
    "*Step 8: Full code for pulling and registering files from google drive*"
   ]
  },
  {
   "cell_type": "code",
   "execution_count": 10,
   "metadata": {},
   "outputs": [
    {
     "name": "stdout",
     "output_type": "stream",
     "text": [
      "1 slide66_slice3.tif\n",
      "2 slide67_slice2.tif\n",
      "3 slide66_slice2.tif\n",
      "4 slide66_slice1.tif\n",
      "5 slide65_slice3.tif\n",
      "6 slide65_slice2.tif\n",
      "7 slide65_slice1.tif\n"
     ]
    },
    {
     "ename": "IndexError",
     "evalue": "list index out of range",
     "output_type": "error",
     "traceback": [
      "\u001b[0;31m---------------------------------------------------------------------------\u001b[0m",
      "\u001b[0;31mIndexError\u001b[0m                                Traceback (most recent call last)",
      "\u001b[0;32m<ipython-input-10-b93ce249a87c>\u001b[0m in \u001b[0;36m<module>\u001b[0;34m\u001b[0m\n\u001b[1;32m     13\u001b[0m \u001b[0;34m\u001b[0m\u001b[0m\n\u001b[1;32m     14\u001b[0m     \u001b[0;31m#  Getting the proper atlas slice an its registration points\u001b[0m\u001b[0;34m\u001b[0m\u001b[0;34m\u001b[0m\u001b[0;34m\u001b[0m\u001b[0m\n\u001b[0;32m---> 15\u001b[0;31m     \u001b[0mslice\u001b[0m \u001b[0;34m=\u001b[0m \u001b[0mcorr_atlas\u001b[0m\u001b[0;34m.\u001b[0m\u001b[0mloc\u001b[0m\u001b[0;34m[\u001b[0m\u001b[0mcorr_atlas\u001b[0m\u001b[0;34m[\u001b[0m\u001b[0;34m'Slidetag'\u001b[0m\u001b[0;34m]\u001b[0m \u001b[0;34m==\u001b[0m \u001b[0mnew_file_name\u001b[0m\u001b[0;34m[\u001b[0m\u001b[0;34m:\u001b[0m\u001b[0;34m-\u001b[0m\u001b[0;36m4\u001b[0m\u001b[0;34m]\u001b[0m\u001b[0;34m]\u001b[0m\u001b[0;34m.\u001b[0m\u001b[0mvalues\u001b[0m\u001b[0;34m.\u001b[0m\u001b[0mtolist\u001b[0m\u001b[0;34m(\u001b[0m\u001b[0;34m)\u001b[0m\u001b[0;34m[\u001b[0m\u001b[0;36m0\u001b[0m\u001b[0;34m]\u001b[0m\u001b[0;34m\u001b[0m\u001b[0;34m\u001b[0m\u001b[0m\n\u001b[0m\u001b[1;32m     16\u001b[0m     \u001b[0mslice_number\u001b[0m \u001b[0;34m=\u001b[0m \u001b[0mslice\u001b[0m\u001b[0;34m[\u001b[0m\u001b[0;36m1\u001b[0m\u001b[0;34m]\u001b[0m\u001b[0;34m\u001b[0m\u001b[0;34m\u001b[0m\u001b[0m\n\u001b[1;32m     17\u001b[0m     \u001b[0msagittal\u001b[0m\u001b[0;34m,\u001b[0m \u001b[0mcoronal\u001b[0m\u001b[0;34m,\u001b[0m \u001b[0mhorizontal\u001b[0m \u001b[0;34m=\u001b[0m \u001b[0mregister\u001b[0m\u001b[0;34m.\u001b[0m\u001b[0matlas_slice\u001b[0m\u001b[0;34m(\u001b[0m\u001b[0mF_im_nii\u001b[0m\u001b[0;34m,\u001b[0m \u001b[0mslice_number\u001b[0m\u001b[0;34m)\u001b[0m\u001b[0;34m\u001b[0m\u001b[0;34m\u001b[0m\u001b[0m\n",
      "\u001b[0;31mIndexError\u001b[0m: list index out of range"
     ]
    }
   ],
   "source": [
    "for row in file_names.itertuples():\n",
    "    #  Downloading the slice to be registered (moving image)\n",
    "    file_id = row.ids\n",
    "    new_file_name = row.names\n",
    "    file6 = drive.CreateFile({'id': file_id})\n",
    "    file6.GetContentFile(new_file_name)\n",
    "\n",
    "    #  Cleaning up the moving image and getting registration points\n",
    "    im = register.im_read(new_file_name)\n",
    "    binary = register.mim_edge_detector(im)\n",
    "    binary = register.image_cleaning(binary)\n",
    "    coor_df = register.find_points(binary)\n",
    "\n",
    "    #  Getting the proper atlas slice an its registration points\n",
    "    slice = corr_atlas.loc[corr_atlas['Slidetag'] == new_file_name[:-4]].values.tolist()[0]\n",
    "    slice_number = slice[1]\n",
    "    sagittal, coronal, horizontal = register.atlas_slice(F_im_nii, slice_number)\n",
    "    resized = preprocess.resize(coronal, 20)\n",
    "    resized = register.mim_edge_detector(resized)\n",
    "    fim_coor_df = register.find_points(resized)\n",
    "    \n",
    "    #  Performing the affine transformation to get registration coordinates\n",
    "    df = pd.concat([coor_df, fim_coor_df], axis = 1)\n",
    "    ainv = register.reg_coefficients(df, 1, 3, 5)\n",
    "\n",
    "    #  Registering the slice\n",
    "    registered_im = register.registration(im, ainv)\n",
    "    Registered_stack[k] = registered_im\n",
    "    \n",
    "    #  Removing the downloaded file and printing file name as a status update\n",
    "    os.remove(new_file_name)\n",
    "    k = k + 1\n",
    "    print(k, new_file_name)"
   ]
  },
  {
   "cell_type": "markdown",
   "metadata": {},
   "source": [
    "*Practice duplicate of earlier code to throw error messages and move to next file if erring*"
   ]
  },
  {
   "cell_type": "code",
   "execution_count": 10,
   "metadata": {},
   "outputs": [
    {
     "name": "stdout",
     "output_type": "stream",
     "text": [
      "1 slide66_slice3.tif\n",
      "2 slide67_slice2.tif\n",
      "3 slide66_slice2.tif\n",
      "4 slide66_slice1.tif\n",
      "5 slide65_slice3.tif\n",
      "6 slide65_slice2.tif\n",
      "7 slide65_slice1.tif\n",
      "error <class 'OSError'>slide64_slide3.tif\n",
      "8 slide64_slice2.tif\n"
     ]
    }
   ],
   "source": [
    "for row in file_names.itertuples():\n",
    "    try:\n",
    "        #  Downloading the slice to be registered (moving image)\n",
    "        file_id = row.ids\n",
    "        new_file_name = row.names\n",
    "        file6 = drive.CreateFile({'id': file_id})\n",
    "        file6.GetContentFile(new_file_name)\n",
    "\n",
    "        #  Cleaning up the moving image and getting registration points\n",
    "        im = register.im_read(new_file_name)\n",
    "        binary = register.mim_edge_detector(im)\n",
    "        binary = register.image_cleaning(binary)\n",
    "        coor_df = register.find_points(binary)\n",
    "\n",
    "        #  Getting the proper atlas slice an its registration points\n",
    "        slice = corr_atlas.loc[corr_atlas['Slidetag'] == new_file_name[:-4]].values.tolist()[0]\n",
    "        slice_number = slice[1]\n",
    "        sagittal, coronal, horizontal = register.atlas_slice(F_im_nii, slice_number)\n",
    "        resized = preprocess.resize(coronal, 20)\n",
    "        resized = register.mim_edge_detector(resized)\n",
    "        fim_coor_df = register.find_points(resized)\n",
    "    \n",
    "        #  Performing the affine transformation to get registration coordinates\n",
    "        df = pd.concat([coor_df, fim_coor_df], axis = 1)\n",
    "        ainv = register.reg_coefficients(df, 1, 3, 5)\n",
    "\n",
    "        #  Registering the slice\n",
    "        registered_im = register.registration(im, ainv)\n",
    "        Registered_stack[k] = registered_im\n",
    "    \n",
    "        #  Removing the downloaded file and printing file name as a status update\n",
    "        os.remove(new_file_name)\n",
    "        k = k + 1\n",
    "        print(k, new_file_name)\n",
    "    \n",
    "    except:\n",
    "        print(\"error \" + str(IOError) + new_file_name)"
   ]
  },
  {
   "cell_type": "markdown",
   "metadata": {},
   "source": [
    "*Step 9: Saving the created stack as a Nifti File*"
   ]
  },
  {
   "cell_type": "code",
   "execution_count": null,
   "metadata": {},
   "outputs": [],
   "source": [
    "full_brain = nib.Nifti2Image(Registered_stack, affine=np.eye(4))"
   ]
  },
  {
   "cell_type": "markdown",
   "metadata": {},
   "source": [
    "*Visualization 1: Looking at an individual slice*"
   ]
  },
  {
   "cell_type": "code",
   "execution_count": null,
   "metadata": {},
   "outputs": [],
   "source": [
    "plt.imshow(Registered_stack[4], cmap = 'gray')\n",
    "plt.title('Layer of Registered Stack')\n",
    "plt.xticks([])\n",
    "plt.yticks([])\n",
    "\n",
    "plt.show()"
   ]
  },
  {
   "cell_type": "markdown",
   "metadata": {},
   "source": [
    "*Visualization 2: Looking at the full stack of slices side by side*"
   ]
  },
  {
   "cell_type": "code",
   "execution_count": null,
   "metadata": {},
   "outputs": [],
   "source": [
    "fig, ax = plt.subplots(1,6, figsize=[18,3])\n",
    "\n",
    "n=0\n",
    "slice=1\n",
    "for _ in range(6):\n",
    "    ax[n].imshow(Registered_stack[_], 'gray')\n",
    "    ax[n].set_xticks([])\n",
    "    ax[n].set_yticks([])\n",
    "    ax[n].set_title('Slice number: {}'.format(slice), color='black')\n",
    "    n += 1\n",
    "    slice += 1\n",
    "    \n",
    "fig.subplots_adjust(wspace=0, hspace=0)\n",
    "plt.show()"
   ]
  },
  {
   "cell_type": "markdown",
   "metadata": {},
   "source": [
    "# Below this line is very developmental work"
   ]
  },
  {
   "cell_type": "markdown",
   "metadata": {},
   "source": [
    "*Working with matplotlib 3D*"
   ]
  },
  {
   "cell_type": "code",
   "execution_count": null,
   "metadata": {},
   "outputs": [],
   "source": [
    "from mpl_toolkits import mplot3d"
   ]
  },
  {
   "cell_type": "code",
   "execution_count": null,
   "metadata": {},
   "outputs": [],
   "source": [
    "fig = plt.figure()\n",
    "ax = plt.axes(projection = '3d')"
   ]
  },
  {
   "cell_type": "code",
   "execution_count": null,
   "metadata": {},
   "outputs": [],
   "source": [
    "Registered_stack.shape"
   ]
  },
  {
   "cell_type": "code",
   "execution_count": null,
   "metadata": {},
   "outputs": [],
   "source": [
    "Registered_stack[0].shape"
   ]
  },
  {
   "cell_type": "code",
   "execution_count": null,
   "metadata": {},
   "outputs": [],
   "source": [
    "Registered_stack[0][1]"
   ]
  },
  {
   "cell_type": "code",
   "execution_count": null,
   "metadata": {},
   "outputs": [],
   "source": [
    "#Data for three deminsional stuff\n",
    "ax = plt.axes(projection = '3d')\n",
    "\n",
    "# create a 21 x 21 vertex mesh\n",
    "xx, yy = np.meshgrid(np.linspace(0,1,21), np.linspace(0,1,21))\n",
    "\n",
    "# create vertices for a rotated mesh (3D rotation matrix)\n",
    "X =  xx \n",
    "Y =  yy\n",
    "Z =  10*np.ones(X.shape)\n",
    "\n",
    "data = Registered_stack[3]\n",
    "\n",
    "ax.plot_surface(X, Y, Z, rstride=1, cstride=1, facecolors=plt.cm.BrBG(data), shade=False)"
   ]
  },
  {
   "cell_type": "code",
   "execution_count": null,
   "metadata": {},
   "outputs": [],
   "source": [
    "from mayavi import mlab\n",
    "mlab.init_notebook()"
   ]
  },
  {
   "cell_type": "code",
   "execution_count": null,
   "metadata": {},
   "outputs": [],
   "source": [
    "volume = mlab.pipeline.volume(mlab.pipeline.scalar_field(Registered_stack), vmin=0, vmax=0.8)\n",
    "\n",
    "mlab.draw()\n",
    "mlab.savefig('output.png')"
   ]
  },
  {
   "cell_type": "code",
   "execution_count": null,
   "metadata": {},
   "outputs": [],
   "source": [
    "mlab.figure()\n",
    "mlab.contour3d(Registered_stack, contours=[])\n",
    "mlab.outline(color=(0,0,0))"
   ]
  },
  {
   "cell_type": "code",
   "execution_count": null,
   "metadata": {},
   "outputs": [],
   "source": []
  },
  {
   "cell_type": "code",
   "execution_count": null,
   "metadata": {},
   "outputs": [],
   "source": []
  },
  {
   "cell_type": "code",
   "execution_count": null,
   "metadata": {},
   "outputs": [],
   "source": []
  },
  {
   "cell_type": "code",
   "execution_count": null,
   "metadata": {},
   "outputs": [],
   "source": []
  }
 ],
 "metadata": {
  "kernelspec": {
   "display_name": "Python 3",
   "language": "python",
   "name": "python3"
  },
  "language_info": {
   "codemirror_mode": {
    "name": "ipython",
    "version": 3
   },
   "file_extension": ".py",
   "mimetype": "text/x-python",
   "name": "python",
   "nbconvert_exporter": "python",
   "pygments_lexer": "ipython3",
   "version": "3.6.8"
  }
 },
 "nbformat": 4,
 "nbformat_minor": 4
}
